{
  "nbformat": 4,
  "nbformat_minor": 0,
  "metadata": {
    "colab": {
      "name": "assignment.ipynb",
      "provenance": []
    },
    "kernelspec": {
      "name": "python3",
      "display_name": "Python 3"
    }
  },
  "cells": [
    {
      "cell_type": "code",
      "metadata": {
        "id": "LD3zNT8HqEIN",
        "colab_type": "code",
        "colab": {}
      },
      "source": [
        "import pandas as pd"
      ],
      "execution_count": 0,
      "outputs": []
    },
    {
      "cell_type": "code",
      "metadata": {
        "id": "dTWt-oFWtGHC",
        "colab_type": "code",
        "colab": {}
      },
      "source": [
        "data=pd.read_csv(\"/content/Indian Liver Patient Dataset (ILPD).csv\")"
      ],
      "execution_count": 0,
      "outputs": []
    },
    {
      "cell_type": "code",
      "metadata": {
        "id": "5R6UAs11xZfP",
        "colab_type": "code",
        "colab": {
          "base_uri": "https://localhost:8080/",
          "height": 255
        },
        "outputId": "d711a1b1-386b-4fd0-8c5b-3c6ad47ced36"
      },
      "source": [
        "data.info"
      ],
      "execution_count": 5,
      "outputs": [
        {
          "output_type": "execute_result",
          "data": {
            "text/plain": [
              "<bound method DataFrame.info of      age  gender  tot_bilirubin  ...  sgot  alkphos  is_patient\n",
              "0     65  Female            0.7  ...   3.3     0.90           1\n",
              "1     62    Male           10.9  ...   3.2     0.74           1\n",
              "2     62    Male            7.3  ...   3.3     0.89           1\n",
              "3     58    Male            1.0  ...   3.4     1.00           1\n",
              "4     72    Male            3.9  ...   2.4     0.40           1\n",
              "..   ...     ...            ...  ...   ...      ...         ...\n",
              "578   60    Male            0.5  ...   1.6     0.37           2\n",
              "579   40    Male            0.6  ...   3.2     1.10           1\n",
              "580   52    Male            0.8  ...   3.2     1.00           1\n",
              "581   31    Male            1.3  ...   3.4     1.00           1\n",
              "582   38    Male            1.0  ...   4.4     1.50           2\n",
              "\n",
              "[583 rows x 11 columns]>"
            ]
          },
          "metadata": {
            "tags": []
          },
          "execution_count": 5
        }
      ]
    },
    {
      "cell_type": "code",
      "metadata": {
        "id": "jkusazlMxb_7",
        "colab_type": "code",
        "colab": {
          "base_uri": "https://localhost:8080/",
          "height": 255
        },
        "outputId": "e0fc3ce7-0d5e-41df-d9e2-01def0cc03a2"
      },
      "source": [
        "data.head"
      ],
      "execution_count": 6,
      "outputs": [
        {
          "output_type": "execute_result",
          "data": {
            "text/plain": [
              "<bound method NDFrame.head of      age  gender  tot_bilirubin  ...  sgot  alkphos  is_patient\n",
              "0     65  Female            0.7  ...   3.3     0.90           1\n",
              "1     62    Male           10.9  ...   3.2     0.74           1\n",
              "2     62    Male            7.3  ...   3.3     0.89           1\n",
              "3     58    Male            1.0  ...   3.4     1.00           1\n",
              "4     72    Male            3.9  ...   2.4     0.40           1\n",
              "..   ...     ...            ...  ...   ...      ...         ...\n",
              "578   60    Male            0.5  ...   1.6     0.37           2\n",
              "579   40    Male            0.6  ...   3.2     1.10           1\n",
              "580   52    Male            0.8  ...   3.2     1.00           1\n",
              "581   31    Male            1.3  ...   3.4     1.00           1\n",
              "582   38    Male            1.0  ...   4.4     1.50           2\n",
              "\n",
              "[583 rows x 11 columns]>"
            ]
          },
          "metadata": {
            "tags": []
          },
          "execution_count": 6
        }
      ]
    },
    {
      "cell_type": "code",
      "metadata": {
        "id": "SS3D3abnxgUq",
        "colab_type": "code",
        "colab": {
          "base_uri": "https://localhost:8080/",
          "height": 255
        },
        "outputId": "60e4c699-05e4-4a6b-f840-69473dd014a2"
      },
      "source": [
        "data.tail"
      ],
      "execution_count": 7,
      "outputs": [
        {
          "output_type": "execute_result",
          "data": {
            "text/plain": [
              "<bound method NDFrame.tail of      age  gender  tot_bilirubin  ...  sgot  alkphos  is_patient\n",
              "0     65  Female            0.7  ...   3.3     0.90           1\n",
              "1     62    Male           10.9  ...   3.2     0.74           1\n",
              "2     62    Male            7.3  ...   3.3     0.89           1\n",
              "3     58    Male            1.0  ...   3.4     1.00           1\n",
              "4     72    Male            3.9  ...   2.4     0.40           1\n",
              "..   ...     ...            ...  ...   ...      ...         ...\n",
              "578   60    Male            0.5  ...   1.6     0.37           2\n",
              "579   40    Male            0.6  ...   3.2     1.10           1\n",
              "580   52    Male            0.8  ...   3.2     1.00           1\n",
              "581   31    Male            1.3  ...   3.4     1.00           1\n",
              "582   38    Male            1.0  ...   4.4     1.50           2\n",
              "\n",
              "[583 rows x 11 columns]>"
            ]
          },
          "metadata": {
            "tags": []
          },
          "execution_count": 7
        }
      ]
    },
    {
      "cell_type": "code",
      "metadata": {
        "id": "Gvl9KQYrxnAh",
        "colab_type": "code",
        "colab": {
          "base_uri": "https://localhost:8080/",
          "height": 317
        },
        "outputId": "eb717bea-01e4-4b88-809e-cf32a612455f"
      },
      "source": [
        "data.describe()"
      ],
      "execution_count": 8,
      "outputs": [
        {
          "output_type": "execute_result",
          "data": {
            "text/html": [
              "<div>\n",
              "<style scoped>\n",
              "    .dataframe tbody tr th:only-of-type {\n",
              "        vertical-align: middle;\n",
              "    }\n",
              "\n",
              "    .dataframe tbody tr th {\n",
              "        vertical-align: top;\n",
              "    }\n",
              "\n",
              "    .dataframe thead th {\n",
              "        text-align: right;\n",
              "    }\n",
              "</style>\n",
              "<table border=\"1\" class=\"dataframe\">\n",
              "  <thead>\n",
              "    <tr style=\"text-align: right;\">\n",
              "      <th></th>\n",
              "      <th>age</th>\n",
              "      <th>tot_bilirubin</th>\n",
              "      <th>direct_bilirubin</th>\n",
              "      <th>tot_proteins</th>\n",
              "      <th>albumin</th>\n",
              "      <th>ag_ratio</th>\n",
              "      <th>sgpt</th>\n",
              "      <th>sgot</th>\n",
              "      <th>alkphos</th>\n",
              "      <th>is_patient</th>\n",
              "    </tr>\n",
              "  </thead>\n",
              "  <tbody>\n",
              "    <tr>\n",
              "      <th>count</th>\n",
              "      <td>583.000000</td>\n",
              "      <td>583.000000</td>\n",
              "      <td>583.000000</td>\n",
              "      <td>583.000000</td>\n",
              "      <td>583.000000</td>\n",
              "      <td>583.000000</td>\n",
              "      <td>583.000000</td>\n",
              "      <td>583.000000</td>\n",
              "      <td>579.000000</td>\n",
              "      <td>583.000000</td>\n",
              "    </tr>\n",
              "    <tr>\n",
              "      <th>mean</th>\n",
              "      <td>44.746141</td>\n",
              "      <td>3.298799</td>\n",
              "      <td>1.486106</td>\n",
              "      <td>290.576329</td>\n",
              "      <td>80.713551</td>\n",
              "      <td>109.910806</td>\n",
              "      <td>6.483190</td>\n",
              "      <td>3.141852</td>\n",
              "      <td>0.947064</td>\n",
              "      <td>1.286449</td>\n",
              "    </tr>\n",
              "    <tr>\n",
              "      <th>std</th>\n",
              "      <td>16.189833</td>\n",
              "      <td>6.209522</td>\n",
              "      <td>2.808498</td>\n",
              "      <td>242.937989</td>\n",
              "      <td>182.620356</td>\n",
              "      <td>288.918529</td>\n",
              "      <td>1.085451</td>\n",
              "      <td>0.795519</td>\n",
              "      <td>0.319592</td>\n",
              "      <td>0.452490</td>\n",
              "    </tr>\n",
              "    <tr>\n",
              "      <th>min</th>\n",
              "      <td>4.000000</td>\n",
              "      <td>0.400000</td>\n",
              "      <td>0.100000</td>\n",
              "      <td>63.000000</td>\n",
              "      <td>10.000000</td>\n",
              "      <td>10.000000</td>\n",
              "      <td>2.700000</td>\n",
              "      <td>0.900000</td>\n",
              "      <td>0.300000</td>\n",
              "      <td>1.000000</td>\n",
              "    </tr>\n",
              "    <tr>\n",
              "      <th>25%</th>\n",
              "      <td>33.000000</td>\n",
              "      <td>0.800000</td>\n",
              "      <td>0.200000</td>\n",
              "      <td>175.500000</td>\n",
              "      <td>23.000000</td>\n",
              "      <td>25.000000</td>\n",
              "      <td>5.800000</td>\n",
              "      <td>2.600000</td>\n",
              "      <td>0.700000</td>\n",
              "      <td>1.000000</td>\n",
              "    </tr>\n",
              "    <tr>\n",
              "      <th>50%</th>\n",
              "      <td>45.000000</td>\n",
              "      <td>1.000000</td>\n",
              "      <td>0.300000</td>\n",
              "      <td>208.000000</td>\n",
              "      <td>35.000000</td>\n",
              "      <td>42.000000</td>\n",
              "      <td>6.600000</td>\n",
              "      <td>3.100000</td>\n",
              "      <td>0.930000</td>\n",
              "      <td>1.000000</td>\n",
              "    </tr>\n",
              "    <tr>\n",
              "      <th>75%</th>\n",
              "      <td>58.000000</td>\n",
              "      <td>2.600000</td>\n",
              "      <td>1.300000</td>\n",
              "      <td>298.000000</td>\n",
              "      <td>60.500000</td>\n",
              "      <td>87.000000</td>\n",
              "      <td>7.200000</td>\n",
              "      <td>3.800000</td>\n",
              "      <td>1.100000</td>\n",
              "      <td>2.000000</td>\n",
              "    </tr>\n",
              "    <tr>\n",
              "      <th>max</th>\n",
              "      <td>90.000000</td>\n",
              "      <td>75.000000</td>\n",
              "      <td>19.700000</td>\n",
              "      <td>2110.000000</td>\n",
              "      <td>2000.000000</td>\n",
              "      <td>4929.000000</td>\n",
              "      <td>9.600000</td>\n",
              "      <td>5.500000</td>\n",
              "      <td>2.800000</td>\n",
              "      <td>2.000000</td>\n",
              "    </tr>\n",
              "  </tbody>\n",
              "</table>\n",
              "</div>"
            ],
            "text/plain": [
              "              age  tot_bilirubin  ...     alkphos  is_patient\n",
              "count  583.000000     583.000000  ...  579.000000  583.000000\n",
              "mean    44.746141       3.298799  ...    0.947064    1.286449\n",
              "std     16.189833       6.209522  ...    0.319592    0.452490\n",
              "min      4.000000       0.400000  ...    0.300000    1.000000\n",
              "25%     33.000000       0.800000  ...    0.700000    1.000000\n",
              "50%     45.000000       1.000000  ...    0.930000    1.000000\n",
              "75%     58.000000       2.600000  ...    1.100000    2.000000\n",
              "max     90.000000      75.000000  ...    2.800000    2.000000\n",
              "\n",
              "[8 rows x 10 columns]"
            ]
          },
          "metadata": {
            "tags": []
          },
          "execution_count": 8
        }
      ]
    },
    {
      "cell_type": "code",
      "metadata": {
        "id": "qmK4gHnSxs_4",
        "colab_type": "code",
        "colab": {}
      },
      "source": [
        "from sklearn.preprocessing import LabelEncoder"
      ],
      "execution_count": 0,
      "outputs": []
    },
    {
      "cell_type": "code",
      "metadata": {
        "id": "Xnitb2D5zAfr",
        "colab_type": "code",
        "colab": {}
      },
      "source": [
        "lb=LabelEncoder()"
      ],
      "execution_count": 0,
      "outputs": []
    },
    {
      "cell_type": "code",
      "metadata": {
        "id": "3hR5r_WXzFVh",
        "colab_type": "code",
        "colab": {}
      },
      "source": [
        "data['Gender']=lb.fit_transform(data['gender'])"
      ],
      "execution_count": 0,
      "outputs": []
    },
    {
      "cell_type": "code",
      "metadata": {
        "id": "sDS27xDezTQS",
        "colab_type": "code",
        "colab": {
          "base_uri": "https://localhost:8080/",
          "height": 255
        },
        "outputId": "34ee6e4b-060b-4a60-e2f7-fa86a5402876"
      },
      "source": [
        "data.info"
      ],
      "execution_count": 13,
      "outputs": [
        {
          "output_type": "execute_result",
          "data": {
            "text/plain": [
              "<bound method DataFrame.info of      age  gender  tot_bilirubin  ...  alkphos  is_patient  Gender\n",
              "0     65  Female            0.7  ...     0.90           1       0\n",
              "1     62    Male           10.9  ...     0.74           1       1\n",
              "2     62    Male            7.3  ...     0.89           1       1\n",
              "3     58    Male            1.0  ...     1.00           1       1\n",
              "4     72    Male            3.9  ...     0.40           1       1\n",
              "..   ...     ...            ...  ...      ...         ...     ...\n",
              "578   60    Male            0.5  ...     0.37           2       1\n",
              "579   40    Male            0.6  ...     1.10           1       1\n",
              "580   52    Male            0.8  ...     1.00           1       1\n",
              "581   31    Male            1.3  ...     1.00           1       1\n",
              "582   38    Male            1.0  ...     1.50           2       1\n",
              "\n",
              "[583 rows x 12 columns]>"
            ]
          },
          "metadata": {
            "tags": []
          },
          "execution_count": 13
        }
      ]
    },
    {
      "cell_type": "code",
      "metadata": {
        "id": "E-f5Z9BGzlZW",
        "colab_type": "code",
        "colab": {
          "base_uri": "https://localhost:8080/",
          "height": 238
        },
        "outputId": "ad49b9a5-9e6d-42bf-d1f1-d71937a02375"
      },
      "source": [
        "data.dtypes"
      ],
      "execution_count": 14,
      "outputs": [
        {
          "output_type": "execute_result",
          "data": {
            "text/plain": [
              "age                   int64\n",
              "gender               object\n",
              "tot_bilirubin       float64\n",
              "direct_bilirubin    float64\n",
              "tot_proteins          int64\n",
              "albumin               int64\n",
              "ag_ratio              int64\n",
              "sgpt                float64\n",
              "sgot                float64\n",
              "alkphos             float64\n",
              "is_patient            int64\n",
              "Gender                int64\n",
              "dtype: object"
            ]
          },
          "metadata": {
            "tags": []
          },
          "execution_count": 14
        }
      ]
    },
    {
      "cell_type": "code",
      "metadata": {
        "id": "3qBFXyA8zoVh",
        "colab_type": "code",
        "colab": {}
      },
      "source": [
        ""
      ],
      "execution_count": 0,
      "outputs": []
    }
  ]
}